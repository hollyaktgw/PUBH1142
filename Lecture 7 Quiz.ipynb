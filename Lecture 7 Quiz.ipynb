{
 "cells": [
  {
   "cell_type": "markdown",
   "metadata": {},
   "source": [
    "## Lecture 7 Quiz\n",
    "### Holly Akati"
   ]
  },
  {
   "cell_type": "markdown",
   "metadata": {},
   "source": [
    "#### How do you define a list in Python?"
   ]
  },
  {
   "cell_type": "code",
   "execution_count": 16,
   "metadata": {},
   "outputs": [],
   "source": [
    "# Define a list in Python\n",
    "my_list = [1, 2, 3, 4, 5]"
   ]
  },
  {
   "cell_type": "markdown",
   "metadata": {},
   "source": [
    "#### How do you access the third element of a Python list named my_list?"
   ]
  },
  {
   "cell_type": "code",
   "execution_count": 17,
   "metadata": {},
   "outputs": [
    {
     "name": "stdout",
     "output_type": "stream",
     "text": [
      "Third element of my_list: 3\n"
     ]
    }
   ],
   "source": [
    "# Access the third element of the list\n",
    "third_element = my_list[2]\n",
    "print(\"Third element of my_list:\", third_element)"
   ]
  },
  {
   "cell_type": "markdown",
   "metadata": {},
   "source": [
    "#### How can you add the element \"new_item\" to the end of an existing list named my_list?"
   ]
  },
  {
   "cell_type": "code",
   "execution_count": 18,
   "metadata": {},
   "outputs": [
    {
     "name": "stdout",
     "output_type": "stream",
     "text": [
      "List after adding 'new_item': [1, 2, 3, 4, 5, 'new_item']\n"
     ]
    }
   ],
   "source": [
    "# Add \"new_item\" to the end of the list\n",
    "my_list.append(\"new_item\")\n",
    "print(\"List after adding 'new_item':\", my_list)"
   ]
  },
  {
   "cell_type": "markdown",
   "metadata": {},
   "source": [
    "#### *How do you create a Python tuple with the items \"apple\", \"banana\", and \"cherry\"?"
   ]
  },
  {
   "cell_type": "code",
   "execution_count": 19,
   "metadata": {},
   "outputs": [],
   "source": [
    "# Create a tuple with items \"apple\", \"banana\", and \"cherry\"\n",
    "my_tuple = (\"apple\", \"banana\", \"cherry\")"
   ]
  },
  {
   "cell_type": "markdown",
   "metadata": {},
   "source": [
    "#### How do you access the first element of a Python tuple named my_tuple?"
   ]
  },
  {
   "cell_type": "code",
   "execution_count": 20,
   "metadata": {},
   "outputs": [
    {
     "name": "stdout",
     "output_type": "stream",
     "text": [
      "First element of my_tuple: apple\n"
     ]
    }
   ],
   "source": [
    "# Access the first element of the tuple\n",
    "first_element = my_tuple[0]\n",
    "print(\"First element of my_tuple:\", first_element)"
   ]
  },
  {
   "cell_type": "markdown",
   "metadata": {},
   "source": [
    "#### How do you define a dictionary in Python with keys \"name\", \"age\" and values \"John Doe\", 30?"
   ]
  },
  {
   "cell_type": "code",
   "execution_count": 21,
   "metadata": {},
   "outputs": [],
   "source": [
    "# Define a dictionary with keys \"name\", \"age\" and values \"John Doe\", 30\n",
    "my_dict = {\"name\": \"John Doe\", \"age\": 30}"
   ]
  },
  {
   "cell_type": "markdown",
   "metadata": {},
   "source": [
    "#### How can you retrieve the value for the key \"name\" from the dictionary my_dict"
   ]
  },
  {
   "cell_type": "code",
   "execution_count": 22,
   "metadata": {},
   "outputs": [
    {
     "name": "stdout",
     "output_type": "stream",
     "text": [
      "Value for the key 'name': John Doe\n"
     ]
    }
   ],
   "source": [
    "# Retrieve the value for the key \"name\" from the dictionary\n",
    "name_value = my_dict[\"name\"]\n",
    "print(\"Value for the key 'name':\", name_value)"
   ]
  },
  {
   "cell_type": "markdown",
   "metadata": {},
   "source": [
    "#### How can you change the value associated with the key \"age\" in the dictionary my_dict to 35?"
   ]
  },
  {
   "cell_type": "code",
   "execution_count": 23,
   "metadata": {},
   "outputs": [
    {
     "name": "stdout",
     "output_type": "stream",
     "text": [
      "Updated dictionary with age 35: {'name': 'John Doe', 'age': 35}\n"
     ]
    }
   ],
   "source": [
    "# Change the value associated with the key \"age\" to 35\n",
    "my_dict[\"age\"] = 35\n",
    "print(\"Updated dictionary with age 35:\", my_dict)"
   ]
  },
  {
   "cell_type": "markdown",
   "metadata": {},
   "source": [
    "#### How can you add a new key-value pair \"city\":\"New York\" to the dictionary my_dict?"
   ]
  },
  {
   "cell_type": "code",
   "execution_count": 24,
   "metadata": {},
   "outputs": [
    {
     "name": "stdout",
     "output_type": "stream",
     "text": [
      "Dictionary after adding 'city' key: {'name': 'John Doe', 'age': 35, 'city': 'New York'}\n"
     ]
    }
   ],
   "source": [
    "# Add a new key-value pair \"city\":\"New York\" to the dictionary\n",
    "my_dict[\"city\"] = \"New York\"\n",
    "print(\"Dictionary after adding 'city' key:\", my_dict)"
   ]
  },
  {
   "cell_type": "markdown",
   "metadata": {},
   "source": [
    "#### *How do you create a set in Python with the items \"apple\", \"banana\", and \"cherry\"?"
   ]
  },
  {
   "cell_type": "code",
   "execution_count": 25,
   "metadata": {},
   "outputs": [],
   "source": [
    "# Create a set with items \"apple\", \"banana\", and \"cherry\"\n",
    "my_set = {\"apple\", \"banana\", \"cherry\"}"
   ]
  },
  {
   "cell_type": "markdown",
   "metadata": {},
   "source": [
    "#### How do you add the item \"orange\" to an existing set my_set?"
   ]
  },
  {
   "cell_type": "code",
   "execution_count": 26,
   "metadata": {},
   "outputs": [
    {
     "name": "stdout",
     "output_type": "stream",
     "text": [
      "Set after adding 'orange': {'banana', 'orange', 'cherry', 'apple'}\n"
     ]
    }
   ],
   "source": [
    "# Add \"orange\" to the existing set\n",
    "my_set.add(\"orange\")\n",
    "print(\"Set after adding 'orange':\", my_set)"
   ]
  },
  {
   "cell_type": "markdown",
   "metadata": {},
   "source": [
    "#### How do you remove the item \"banana\" from the set my_set?"
   ]
  },
  {
   "cell_type": "code",
   "execution_count": 27,
   "metadata": {},
   "outputs": [
    {
     "name": "stdout",
     "output_type": "stream",
     "text": [
      "Set after removing 'banana': {'orange', 'cherry', 'apple'}\n"
     ]
    }
   ],
   "source": [
    "# Remove \"banana\" from the set\n",
    "my_set.remove(\"banana\")\n",
    "print(\"Set after removing 'banana':\", my_set)"
   ]
  },
  {
   "cell_type": "markdown",
   "metadata": {},
   "source": [
    "#### What is the length of a list my_list with elements [1, 2, 3, 4, 5]?"
   ]
  },
  {
   "cell_type": "code",
   "execution_count": 28,
   "metadata": {},
   "outputs": [
    {
     "name": "stdout",
     "output_type": "stream",
     "text": [
      "Length of my_list: 6\n"
     ]
    }
   ],
   "source": [
    "# Length of the list my_list\n",
    "list_length = len(my_list)\n",
    "print(\"Length of my_list:\", list_length)"
   ]
  },
  {
   "cell_type": "markdown",
   "metadata": {},
   "source": [
    "#### What will be the result of my_list * 2 if my_list is [1, 2, 3]?"
   ]
  },
  {
   "cell_type": "code",
   "execution_count": 29,
   "metadata": {},
   "outputs": [
    {
     "name": "stdout",
     "output_type": "stream",
     "text": [
      "Result of my_list * 2: [1, 2, 3, 4, 5, 'new_item', 1, 2, 3, 4, 5, 'new_item']\n"
     ]
    }
   ],
   "source": [
    "# Result of my_list * 2\n",
    "list_result = my_list * 2\n",
    "print(\"Result of my_list * 2:\", list_result)"
   ]
  },
  {
   "cell_type": "markdown",
   "metadata": {},
   "source": [
    "#### What is the result of set([1,2,2,3,4,4,4,5,5])?"
   ]
  },
  {
   "cell_type": "code",
   "execution_count": 30,
   "metadata": {},
   "outputs": [
    {
     "name": "stdout",
     "output_type": "stream",
     "text": [
      "Result of set([1,2,2,3,4,4,4,5,5]): {1, 2, 3, 4, 5}\n"
     ]
    }
   ],
   "source": [
    "# Result of set([1,2,2,3,4,4,4,5,5])\n",
    "set_result = set([1, 2, 2, 3, 4, 4, 4, 5, 5])\n",
    "print(\"Result of set([1,2,2,3,4,4,4,5,5]):\", set_result)"
   ]
  }
 ],
 "metadata": {
  "kernelspec": {
   "display_name": "Python 3",
   "language": "python",
   "name": "python3"
  },
  "language_info": {
   "codemirror_mode": {
    "name": "ipython",
    "version": 3
   },
   "file_extension": ".py",
   "mimetype": "text/x-python",
   "name": "python",
   "nbconvert_exporter": "python",
   "pygments_lexer": "ipython3",
   "version": "3.12.2"
  }
 },
 "nbformat": 4,
 "nbformat_minor": 2
}
