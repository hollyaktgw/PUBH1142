{
 "cells": [
  {
   "cell_type": "markdown",
   "metadata": {},
   "source": [
    "### Importing the Leukemia Dataset"
   ]
  },
  {
   "cell_type": "code",
   "execution_count": 6,
   "metadata": {},
   "outputs": [],
   "source": [
    "import pandas as pd\n",
    "import numpy as np\n",
    "df = pd.read_csv('C:/Users/holly/OneDrive/Bureau/PUBH1142/leukemiadata.csv')"
   ]
  },
  {
   "cell_type": "markdown",
   "metadata": {},
   "source": [
    "### Sanity Check"
   ]
  },
  {
   "cell_type": "code",
   "execution_count": 7,
   "metadata": {},
   "outputs": [
    {
     "data": {
      "text/html": [
       "<div>\n",
       "<style scoped>\n",
       "    .dataframe tbody tr th:only-of-type {\n",
       "        vertical-align: middle;\n",
       "    }\n",
       "\n",
       "    .dataframe tbody tr th {\n",
       "        vertical-align: top;\n",
       "    }\n",
       "\n",
       "    .dataframe thead th {\n",
       "        text-align: right;\n",
       "    }\n",
       "</style>\n",
       "<table border=\"1\" class=\"dataframe\">\n",
       "  <thead>\n",
       "    <tr style=\"text-align: right;\">\n",
       "      <th></th>\n",
       "      <th>age_group</th>\n",
       "      <th>behaviour</th>\n",
       "      <th>ethnicity</th>\n",
       "      <th>histology_code_idc_o_3</th>\n",
       "      <th>method_of_diagnosis</th>\n",
       "      <th>race</th>\n",
       "      <th>report_source</th>\n",
       "      <th>sex</th>\n",
       "      <th>stage_of_disease</th>\n",
       "    </tr>\n",
       "  </thead>\n",
       "  <tbody>\n",
       "    <tr>\n",
       "      <th>0</th>\n",
       "      <td>20 to 24</td>\n",
       "      <td>Malignant</td>\n",
       "      <td>Non-Hispanic (including Unknown)</td>\n",
       "      <td>9811</td>\n",
       "      <td>Positive Histology</td>\n",
       "      <td>White</td>\n",
       "      <td>Hospital or Clinic</td>\n",
       "      <td>Female</td>\n",
       "      <td>Distant</td>\n",
       "    </tr>\n",
       "    <tr>\n",
       "      <th>1</th>\n",
       "      <td>40 to 44</td>\n",
       "      <td>Malignant</td>\n",
       "      <td>Non-Hispanic (including Unknown)</td>\n",
       "      <td>9811</td>\n",
       "      <td>Positive Histology</td>\n",
       "      <td>White</td>\n",
       "      <td>Hospital or Clinic</td>\n",
       "      <td>Male</td>\n",
       "      <td>Distant</td>\n",
       "    </tr>\n",
       "    <tr>\n",
       "      <th>2</th>\n",
       "      <td>40 to 44</td>\n",
       "      <td>Malignant</td>\n",
       "      <td>Non-Hispanic (including Unknown)</td>\n",
       "      <td>9811</td>\n",
       "      <td>Positive Histology</td>\n",
       "      <td>Other</td>\n",
       "      <td>Hospital or Clinic</td>\n",
       "      <td>Male</td>\n",
       "      <td>Distant</td>\n",
       "    </tr>\n",
       "    <tr>\n",
       "      <th>3</th>\n",
       "      <td>45 to 49</td>\n",
       "      <td>Malignant</td>\n",
       "      <td>Hispanic</td>\n",
       "      <td>9811</td>\n",
       "      <td>Positive Histology</td>\n",
       "      <td>White</td>\n",
       "      <td>Hospital or Clinic</td>\n",
       "      <td>Male</td>\n",
       "      <td>Distant</td>\n",
       "    </tr>\n",
       "    <tr>\n",
       "      <th>4</th>\n",
       "      <td>60 to 64</td>\n",
       "      <td>Malignant</td>\n",
       "      <td>Non-Hispanic (including Unknown)</td>\n",
       "      <td>9811</td>\n",
       "      <td>Positive Histology</td>\n",
       "      <td>White</td>\n",
       "      <td>Hospital or Clinic</td>\n",
       "      <td>Male</td>\n",
       "      <td>Distant</td>\n",
       "    </tr>\n",
       "  </tbody>\n",
       "</table>\n",
       "</div>"
      ],
      "text/plain": [
       "  age_group  behaviour                         ethnicity  \\\n",
       "0  20 to 24  Malignant  Non-Hispanic (including Unknown)   \n",
       "1  40 to 44  Malignant  Non-Hispanic (including Unknown)   \n",
       "2  40 to 44  Malignant  Non-Hispanic (including Unknown)   \n",
       "3  45 to 49  Malignant                          Hispanic   \n",
       "4  60 to 64  Malignant  Non-Hispanic (including Unknown)   \n",
       "\n",
       "   histology_code_idc_o_3 method_of_diagnosis   race       report_source  \\\n",
       "0                    9811  Positive Histology  White  Hospital or Clinic   \n",
       "1                    9811  Positive Histology  White  Hospital or Clinic   \n",
       "2                    9811  Positive Histology  Other  Hospital or Clinic   \n",
       "3                    9811  Positive Histology  White  Hospital or Clinic   \n",
       "4                    9811  Positive Histology  White  Hospital or Clinic   \n",
       "\n",
       "      sex stage_of_disease  \n",
       "0  Female          Distant  \n",
       "1    Male          Distant  \n",
       "2    Male          Distant  \n",
       "3    Male          Distant  \n",
       "4    Male          Distant  "
      ]
     },
     "execution_count": 7,
     "metadata": {},
     "output_type": "execute_result"
    }
   ],
   "source": [
    "df.head()"
   ]
  },
  {
   "cell_type": "code",
   "execution_count": 13,
   "metadata": {},
   "outputs": [
    {
     "data": {
      "text/plain": [
       "(194, 9)"
      ]
     },
     "execution_count": 13,
     "metadata": {},
     "output_type": "execute_result"
    }
   ],
   "source": [
    "df.shape"
   ]
  },
  {
   "cell_type": "code",
   "execution_count": 11,
   "metadata": {},
   "outputs": [
    {
     "data": {
      "text/plain": [
       "Index(['age_group', 'behaviour', 'ethnicity', 'histology_code_idc_o_3',\n",
       "       'method_of_diagnosis', 'race', 'report_source', 'sex',\n",
       "       'stage_of_disease'],\n",
       "      dtype='object')"
      ]
     },
     "execution_count": 11,
     "metadata": {},
     "output_type": "execute_result"
    }
   ],
   "source": [
    "df.columns"
   ]
  },
  {
   "cell_type": "code",
   "execution_count": 12,
   "metadata": {},
   "outputs": [
    {
     "data": {
      "text/html": [
       "<div>\n",
       "<style scoped>\n",
       "    .dataframe tbody tr th:only-of-type {\n",
       "        vertical-align: middle;\n",
       "    }\n",
       "\n",
       "    .dataframe tbody tr th {\n",
       "        vertical-align: top;\n",
       "    }\n",
       "\n",
       "    .dataframe thead th {\n",
       "        text-align: right;\n",
       "    }\n",
       "</style>\n",
       "<table border=\"1\" class=\"dataframe\">\n",
       "  <thead>\n",
       "    <tr style=\"text-align: right;\">\n",
       "      <th></th>\n",
       "      <th>histology_code_idc_o_3</th>\n",
       "    </tr>\n",
       "  </thead>\n",
       "  <tbody>\n",
       "    <tr>\n",
       "      <th>count</th>\n",
       "      <td>194.000000</td>\n",
       "    </tr>\n",
       "    <tr>\n",
       "      <th>mean</th>\n",
       "      <td>9833.737113</td>\n",
       "    </tr>\n",
       "    <tr>\n",
       "      <th>std</th>\n",
       "      <td>6.011040</td>\n",
       "    </tr>\n",
       "    <tr>\n",
       "      <th>min</th>\n",
       "      <td>9811.000000</td>\n",
       "    </tr>\n",
       "    <tr>\n",
       "      <th>25%</th>\n",
       "      <td>9835.000000</td>\n",
       "    </tr>\n",
       "    <tr>\n",
       "      <th>50%</th>\n",
       "      <td>9835.000000</td>\n",
       "    </tr>\n",
       "    <tr>\n",
       "      <th>75%</th>\n",
       "      <td>9836.000000</td>\n",
       "    </tr>\n",
       "    <tr>\n",
       "      <th>max</th>\n",
       "      <td>9837.000000</td>\n",
       "    </tr>\n",
       "  </tbody>\n",
       "</table>\n",
       "</div>"
      ],
      "text/plain": [
       "       histology_code_idc_o_3\n",
       "count              194.000000\n",
       "mean              9833.737113\n",
       "std                  6.011040\n",
       "min               9811.000000\n",
       "25%               9835.000000\n",
       "50%               9835.000000\n",
       "75%               9836.000000\n",
       "max               9837.000000"
      ]
     },
     "execution_count": 12,
     "metadata": {},
     "output_type": "execute_result"
    }
   ],
   "source": [
    "df.describe()  "
   ]
  },
  {
   "cell_type": "code",
   "execution_count": 14,
   "metadata": {},
   "outputs": [
    {
     "data": {
      "text/plain": [
       "age_group                 object\n",
       "behaviour                 object\n",
       "ethnicity                 object\n",
       "histology_code_idc_o_3     int64\n",
       "method_of_diagnosis       object\n",
       "race                      object\n",
       "report_source             object\n",
       "sex                       object\n",
       "stage_of_disease          object\n",
       "dtype: object"
      ]
     },
     "execution_count": 14,
     "metadata": {},
     "output_type": "execute_result"
    }
   ],
   "source": [
    "df.dtypes"
   ]
  },
  {
   "cell_type": "code",
   "execution_count": null,
   "metadata": {},
   "outputs": [],
   "source": []
  }
 ],
 "metadata": {
  "kernelspec": {
   "display_name": "Python 3",
   "language": "python",
   "name": "python3"
  },
  "language_info": {
   "codemirror_mode": {
    "name": "ipython",
    "version": 3
   },
   "file_extension": ".py",
   "mimetype": "text/x-python",
   "name": "python",
   "nbconvert_exporter": "python",
   "pygments_lexer": "ipython3",
   "version": "3.12.2"
  }
 },
 "nbformat": 4,
 "nbformat_minor": 2
}
